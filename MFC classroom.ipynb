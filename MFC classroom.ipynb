{
 "cells": [
  {
   "cell_type": "code",
   "execution_count": 96,
   "metadata": {},
   "outputs": [],
   "source": [
    "##Represent the graph as a adjacency matrix,adjacency list and edge list[Both directed and undirected graphs].\n",
    "#Undirected graph\n",
    "Node_points=['s1','s2','s3','s4','s5']\n",
    "UD_Adj_Matrix= [[0,1,0,0,1],[1,0,1,0,1],[0,1,0,1,0],[0,0,1,0,0],[1,1,0,0,0]]\n",
    "UD_Adj_list={'s1':['s2','s5'],'s2':['s1','s3','s5'],'s3':['s2','s4'],'s4':['s3'],'s5':['s1','s2']}\n",
    "UD_Edge_list=[('s1','s2'),('s1','s5'),('s2','s1'),('s2','s3'),('s2','s5'),('s3','s2'),('s3','s4'),('s4','s3'),('s5','s1'),('s5','s2')]\n",
    "\n",
    " \n"
   ]
  },
  {
   "cell_type": "code",
   "execution_count": 97,
   "metadata": {},
   "outputs": [
    {
     "data": {
      "text/plain": [
       "{'s4': 1, 's1': 2, 's3': 2, 's5': 2, 's2': 3}"
      ]
     },
     "execution_count": 97,
     "metadata": {},
     "output_type": "execute_result"
    }
   ],
   "source": [
    "# Question 1.\n",
    "\n",
    "def get_sorted_degrees(adjacency_list):\n",
    "    # Create a dictionary to store the degree (number of connections) for each node\n",
    "\n",
    "    node_degrees = {}\n",
    "    for node in adjacency_list:\n",
    "\n",
    "        # The degree of a node is simply the number of its neighbors\n",
    "        node_degrees[node] = len(adjacency_list[node])\n",
    "\n",
    "    # Sort the dictionary items based on degree values (ascending order)\n",
    "    sorted_degrees = dict(sorted(node_degrees.items(), key=lambda item: item[1]))\n",
    "\n",
    "    # Return the sorted dictionary containing nodes and their corresponding degrees\n",
    "    return sorted_degrees\n",
    "get_sorted_degrees(UD_Adj_list)\n"
   ]
  },
  {
   "cell_type": "code",
   "execution_count": 98,
   "metadata": {},
   "outputs": [
    {
     "data": {
      "text/plain": [
       "{'s1': ['s2', 's5'],\n",
       " 's2': ['s1', 's3', 's5'],\n",
       " 's3': ['s2', 's4'],\n",
       " 's4': ['s3'],\n",
       " 's5': ['s1', 's2']}"
      ]
     },
     "execution_count": 98,
     "metadata": {},
     "output_type": "execute_result"
    }
   ],
   "source": [
    "# Question 2\n",
    "\n",
    "# a. Convert an adjacency list into an adjacency matrix\n",
    "def convert_adjlist_to_matrix(adj_list, nodes):\n",
    "    n = len(nodes)\n",
    "    # Create a mapping from node name to index\n",
    "    node_index = {node: idx for idx, node in enumerate(nodes)}\n",
    "    # Initialize a square matrix filled with zeros\n",
    "    matrix = [[0 for _ in range(n)] for _ in range(n)]\n",
    "    \n",
    "    # Fill the matrix: mark a connection with 1\n",
    "    for source, connections in adj_list.items():\n",
    "        for target in connections:\n",
    "            matrix[node_index[source]][node_index[target]] = 1\n",
    "            \n",
    "    return matrix\n",
    "\n",
    "# b. Convert an adjacency matrix back to an edge list\n",
    "def convert_matrix_to_edgelist(matrix, nodes):\n",
    "    edges = []\n",
    "    for row in range(len(matrix)):\n",
    "        for col in range(len(matrix[row])):\n",
    "            if matrix[row][col] == 1:\n",
    "                # There is an edge from nodes[row] to nodes[col]\n",
    "                edges.append((nodes[row], nodes[col]))\n",
    "    return edges\n",
    "\n",
    "# c. Convert an edge list to an adjacency list\n",
    "def convert_edgelist_to_adjlist(edges):\n",
    "    adj_list = {}\n",
    "    for start, end in edges:\n",
    "        if start not in adj_list:\n",
    "            adj_list[start] = []\n",
    "        adj_list[start].append(end)\n",
    "    return adj_list\n",
    "convert_adjlist_to_matrix(UD_Adj_list, Node_points)\n",
    "convert_matrix_to_edgelist(adj_matrix, Node_points)\n",
    "convert_edgelist_to_adjlist(edge_list)\n"
   ]
  },
  {
   "cell_type": "code",
   "execution_count": 99,
   "metadata": {},
   "outputs": [
    {
     "data": {
      "text/plain": [
       "True"
      ]
     },
     "execution_count": 99,
     "metadata": {},
     "output_type": "execute_result"
    }
   ],
   "source": [
    "# Question 3\n",
    "\n",
    "# Check if two nodes are directly connected in an adjacency list\n",
    "def check_direct_connection(adj_list, node1, node2):\n",
    "    \n",
    "    # Returns True if node2 is in the list of neighbors for node1\n",
    "    return node2 in adj_list.get(node1, [])\n",
    "\n",
    "\n",
    "check_direct_connection(UD_Adj_list, 's1', 's2')  # Returns True if there's a direct edge from s1 to s2\n"
   ]
  },
  {
   "cell_type": "code",
   "execution_count": 100,
   "metadata": {},
   "outputs": [
    {
     "data": {
      "text/plain": [
       "False"
      ]
     },
     "execution_count": 100,
     "metadata": {},
     "output_type": "execute_result"
    }
   ],
   "source": [
    "# Question 4\n",
    "\n",
    "# Function to check if a graph is complete\n",
    "# A complete graph has every possible edge between distinct nodes\n",
    "def is_complete_graph(edge_list, nodes):\n",
    "    total_nodes = len(nodes)\n",
    "    expected_edge_count = total_nodes * (total_nodes - 1) // 2  # nC2 edges in a complete undirected graph\n",
    "\n",
    "    # Create a set to store unique undirected edges\n",
    "    unique_edges = set()\n",
    "\n",
    "    for u, v in edge_list:\n",
    "        if u == v:\n",
    "            continue  # skip self-loops\n",
    "        # Store the edge in a sorted order to treat (u,v) and (v,u) as the same\n",
    "        edge = tuple(sorted((u, v)))\n",
    "        unique_edges.add(edge)\n",
    "\n",
    "    # The graph is complete if the number of unique edges matches the expected count\n",
    "    return len(unique_edges) == expected_edge_count\n",
    "\n",
    "is_complete_graph(UD_Edge_list, Node_points)\n",
    "\n"
   ]
  },
  {
   "cell_type": "code",
   "execution_count": 101,
   "metadata": {},
   "outputs": [
    {
     "data": {
      "text/plain": [
       "True"
      ]
     },
     "execution_count": 101,
     "metadata": {},
     "output_type": "execute_result"
    }
   ],
   "source": [
    "# Question 5\n",
    "\n",
    "# Function to check if the graph is connected using Depth-First Search (DFS)\n",
    "# A graph is connected if we can visit all nodes starting from any node\n",
    "def is_connected(adj_list, start_node):\n",
    "\n",
    "    visited_nodes = set()  # Keep track of all visited nodes\n",
    "\n",
    "    # Inner recursive DFS function\n",
    "    def dfs(node):\n",
    "        visited_nodes.add(node)\n",
    "        for neighbor in adj_list.get(node, []):\n",
    "            if neighbor not in visited_nodes:\n",
    "                dfs(neighbor)\n",
    "\n",
    "    dfs(start_node)  # Start DFS from the given start node\n",
    "\n",
    "    # If number of visited nodes equals total nodes, graph is connected\n",
    "    return len(visited_nodes) == len(adj_list)\n",
    "\n",
    "is_connected(UD_Adj_list, 's1')  # Returns True if all nodes are reachable from 's1'\n"
   ]
  },
  {
   "cell_type": "code",
   "execution_count": 102,
   "metadata": {},
   "outputs": [
    {
     "data": {
      "text/plain": [
       "'Walk'"
      ]
     },
     "execution_count": 102,
     "metadata": {},
     "output_type": "execute_result"
    }
   ],
   "source": [
    "# Question 6\n",
    "\n",
    "# Function to check if a given sequence of nodes forms a walk, trail, or path\n",
    "def check_sequence_type(adj_list, sequence):\n",
    "    seen_edges = set()  # To track visited edges for trail check\n",
    "    seen_nodes = set()  # To track visited nodes for path check\n",
    "\n",
    "    # Check through the sequence to ensure it forms either a walk, trail, or path\n",
    "    for i in range(len(sequence) - 1):\n",
    "        current_node = sequence[i]\n",
    "        next_node = sequence[i + 1]\n",
    "\n",
    "        # Check if the next node is a valid neighbor\n",
    "        if next_node not in adj_list.get(current_node, []):\n",
    "            return \"None\"  # If next node is not a neighbor, it's not valid\n",
    "\n",
    "        # Check if the edge (current_node, next_node) has been visited for a trail\n",
    "        edge = (current_node, next_node)\n",
    "        reverse_edge = (next_node, current_node)  # Considering undirected graph\n",
    "        if edge in seen_edges or reverse_edge in seen_edges:\n",
    "            return \"Trail\"  # If any edge is visited more than once, it's a trail\n",
    "\n",
    "        seen_edges.add(edge)  # Mark this edge as visited\n",
    "\n",
    "        # Check if the node has been visited for a path\n",
    "        if current_node in seen_nodes or next_node in seen_nodes:\n",
    "            return \"Path\"  # If any node is visited more than once, it's a path\n",
    "\n",
    "        seen_nodes.add(current_node)  # Mark this node as visited\n",
    "\n",
    "    return \"Walk\"  # If no node or edge is repeated, it's a walk\n",
    "\n",
    "\n",
    "check_sequence_type(UD_Adj_list, ['s1', 's2', 's3', 's4'])  # Returns \"Walk\"\n",
    "# check_sequence_type(UD_Adj_list, ['s1', 's3', 's4'])        # Returns \"None\" (Invalid)\n",
    "# check_sequence_type(UD_Adj_list, ['s1', 's2', 's1'])        # Returns \"trail\"\n"
   ]
  },
  {
   "cell_type": "code",
   "execution_count": 103,
   "metadata": {},
   "outputs": [
    {
     "name": "stdout",
     "output_type": "stream",
     "text": [
      "False\n"
     ]
    }
   ],
   "source": [
    "# Question 7\n",
    "\n",
    "# Function to determine if a graph represented by an adjacency list is a tree\n",
    "def is_tree(adj_list):\n",
    "    visited = set()  # To keep track of visited nodes during DFS\n",
    "\n",
    "    # Helper function to perform Depth-First Search (DFS)\n",
    "    def dfs(current, parent):\n",
    "        visited.add(current)  # Mark the current node as visited\n",
    "\n",
    "        for neighbor in adj_list.get(current, []):  # Traverse neighbors of the current node\n",
    "            if neighbor not in visited:\n",
    "                \n",
    "                # Recur for the unvisited neighbor\n",
    "                if not dfs(neighbor, current):\n",
    "                    return False\n",
    "            elif neighbor != parent:\n",
    "                # If neighbor is already visited and it's not the parent, a cycle is found\n",
    "                return False\n",
    "\n",
    "        return True  # No cycle detected from this path\n",
    "\n",
    "    # Start DFS from any arbitrary node (first node in the dictionary)\n",
    "    start_node = next(iter(adj_list))\n",
    "    \n",
    "    # The graph is a tree if:\n",
    "    # 1. There are no cycles.\n",
    "    # 2. All nodes are connected (i.e., all nodes are visited).\n",
    "    return dfs(start_node, None) and len(visited) == len(adj_list)\n",
    "\n",
    "print(is_tree(UD_Adj_list))  # Output: False if there's a cycle, True if it's a valid tree\n"
   ]
  },
  {
   "cell_type": "code",
   "execution_count": 104,
   "metadata": {},
   "outputs": [
    {
     "name": "stdout",
     "output_type": "stream",
     "text": [
      "{'s1': ['s2'], 's2': ['s1', 's3', 's5'], 's3': ['s2', 's4'], 's4': ['s3'], 's5': ['s2']}\n"
     ]
    }
   ],
   "source": [
    "# Question 8\n",
    "\n",
    "# Function to generate a spanning tree from an undirected graph's adjacency list\n",
    "def spanning_tree(adj_list):\n",
    "    visited = set()  # Keeps track of visited nodes\n",
    "\n",
    "    tree = {node: [] for node in adj_list}  # Initialize tree structure with empty neighbor lists\n",
    "\n",
    "    # Depth-First Search (DFS) helper to build the spanning tree\n",
    "    def dfs(current):\n",
    "        visited.add(current)\n",
    "        for neighbor in adj_list[current]:\n",
    "            if neighbor not in visited:\n",
    "\n",
    "                # Add the edge to the tree (since it's undirected, add both directions)\n",
    "                tree[current].append(neighbor)\n",
    "                tree[neighbor].append(current)\n",
    "                dfs(neighbor)\n",
    "\n",
    "    # Start DFS from any arbitrary node (first key in adjacency list)\n",
    "    start_node = next(iter(adj_list))\n",
    "    dfs(start_node)\n",
    "\n",
    "    # Return only the nodes with at least one connection in the spanning tree\n",
    "    return {node: neighbors for node, neighbors in tree.items() if neighbors}\n",
    "\n",
    "print(spanning_tree(UD_Adj_list))\n"
   ]
  },
  {
   "cell_type": "code",
   "execution_count": 105,
   "metadata": {},
   "outputs": [
    {
     "name": "stdout",
     "output_type": "stream",
     "text": [
      "3\n"
     ]
    }
   ],
   "source": [
    "# Question 9\n",
    "\n",
    "# Function to count leaf nodes in a tree represented as an adjacency list\n",
    "def count_leaf_nodes(tree_adj_list):\n",
    "    \n",
    "    # A leaf node has exactly one connection (degree = 1)\n",
    "    leaf_count = sum(1 for neighbors in tree_adj_list.values() if len(neighbors) == 1)\n",
    "    return leaf_count\n",
    "\n",
    "# Generate a spanning tree from the original adjacency list\n",
    "tree = spanning_tree(UD_Adj_list)\n",
    "\n",
    "# Count and print the number of leaf nodes in the spanning tree\n",
    "print(count_leaf_nodes(tree))  # Output: Number of leaf nodes\n"
   ]
  },
  {
   "cell_type": "code",
   "execution_count": 106,
   "metadata": {},
   "outputs": [
    {
     "name": "stdout",
     "output_type": "stream",
     "text": [
      "Is Binary Tree: False\n"
     ]
    }
   ],
   "source": [
    "# Question 10\n",
    "\n",
    "def check_if_binary_tree(tree_structure):\n",
    "    \"\"\"\n",
    "    Determines if a tree is a binary tree.\n",
    "\n",
    "    A binary tree is a tree where each node has at most two children.\n",
    "\n",
    "    Parameters:\n",
    "    - tree_structure (dict): Tree represented as an adjacency list.\n",
    "\n",
    "    Returns:\n",
    "    - bool: True if the tree is a binary tree, False otherwise.\n",
    "    \"\"\"\n",
    "    for node, children in tree_structure.items():\n",
    "        if len(children) > 2:\n",
    "            # If any node has more than 2 children, it's not a binary tree\n",
    "            return False\n",
    "    return True\n",
    "\n",
    "\n",
    "# Example usage:\n",
    "is_binary = check_if_binary_tree(tree)\n",
    "print(\"Is Binary Tree:\", is_binary)\n",
    "\n"
   ]
  },
  {
   "cell_type": "code",
   "execution_count": 107,
   "metadata": {},
   "outputs": [
    {
     "name": "stdout",
     "output_type": "stream",
     "text": [
      "{'s1': ['s2'], 's2': ['s3', 's5'], 's3': ['s4']}\n"
     ]
    }
   ],
   "source": [
    "\n",
    "def generate_spanning_tree(graph):\n",
    "    \"\"\"\n",
    "    Generate a spanning tree from an undirected graph represented by an adjacency list.\n",
    "    \n",
    "    Parameters:\n",
    "    - graph (dict): A dictionary where keys are node names and values are lists of connected nodes.\n",
    "\n",
    "    Returns:\n",
    "    - dict: A dictionary representing the spanning tree.\n",
    "    \"\"\"\n",
    "    visited_nodes = set()\n",
    "    spanning_tree = {node: [] for node in graph}\n",
    "\n",
    "    def depth_first_search(current_node):\n",
    "        visited_nodes.add(current_node)\n",
    "        for neighbor in graph[current_node]:\n",
    "            if neighbor not in visited_nodes:\n",
    "                spanning_tree[current_node].append(neighbor)\n",
    "                depth_first_search(neighbor)\n",
    "\n",
    "    # Start DFS from the first node in the graph\n",
    "    start_node = next(iter(graph))\n",
    "    depth_first_search(start_node)\n",
    "\n",
    "    # Return only connected parts of the tree\n",
    "    return {node: neighbors for node, neighbors in spanning_tree.items() if neighbors or node == start_node}\n",
    "\n",
    "\n",
    "# Example usage with your given adjacency list\n",
    "UD_Adj_list = {\n",
    "    's1': ['s2', 's5'],\n",
    "    's2': ['s1', 's3', 's5'],\n",
    "    's3': ['s2', 's4'],\n",
    "    's4': ['s3'],\n",
    "    's5': ['s1', 's2']\n",
    "}\n",
    "\n",
    "tree = generate_spanning_tree(UD_Adj_list)\n",
    "print(tree)\n"
   ]
  },
  {
   "cell_type": "code",
   "execution_count": 108,
   "metadata": {},
   "outputs": [
    {
     "name": "stdout",
     "output_type": "stream",
     "text": [
      "Tree Height from 's1': 3\n"
     ]
    }
   ],
   "source": [
    "# Questoion 11\n",
    "\n",
    "def calculate_tree_height(tree, root):\n",
    "    \"\"\"\n",
    "    Recursively calculates the height of a tree starting from the given root node.\n",
    "\n",
    "    Parameters:\n",
    "    - tree (dict): A tree represented as an adjacency list.\n",
    "    - root (str): The node from which to calculate the height.\n",
    "\n",
    "    Returns:\n",
    "    - int: Height of the tree.\n",
    "    \"\"\"\n",
    "    # If the node has no children or doesn't exist in the tree, it's a leaf node.\n",
    "    if not tree.get(root):\n",
    "        return 0\n",
    "\n",
    "    # Recursively find the height of each subtree and return the maximum\n",
    "    return 1 + max(calculate_tree_height(tree, child) for child in tree[root])\n",
    "\n",
    "\n",
    "# Example usage:\n",
    "height = calculate_tree_height(tree, 's1')\n",
    "print(\"Tree Height from 's1':\", height)  # ✅ Output: 3\n"
   ]
  },
  {
   "cell_type": "code",
   "execution_count": 109,
   "metadata": {},
   "outputs": [
    {
     "name": "stdout",
     "output_type": "stream",
     "text": [
      "0\n",
      "1\n",
      "2\n",
      "3\n"
     ]
    }
   ],
   "source": [
    "# Question 12\n",
    "\n",
    "def get_node_depth(tree, root, target, depth=0):\n",
    "    \"\"\"\n",
    "    Finds the depth of a target node in a tree starting from the root.\n",
    "\n",
    "    Parameters:\n",
    "    - tree (dict): Tree represented as an adjacency list.\n",
    "    - root (str): Starting/root node of the tree.\n",
    "    - target (str): Node whose depth needs to be found.\n",
    "    - depth (int): Current depth (default is 0).\n",
    "\n",
    "    Returns:\n",
    "    - int: Depth of the target node, or -1 if not found.\n",
    "    \"\"\"\n",
    "    if root == target:\n",
    "        return depth\n",
    "\n",
    "    # Traverse all children of the current node\n",
    "    for child in tree.get(root, []):\n",
    "        result = get_node_depth(tree, child, target, depth + 1)\n",
    "        if result != -1:\n",
    "            return result\n",
    "\n",
    "    # Target not found in this path\n",
    "    return -1\n",
    "\n",
    "\n",
    "print(get_node_depth(tree, 's1', 's1'))  \n",
    "print(get_node_depth(tree, 's1', 's2'))  \n",
    "print(get_node_depth(tree, 's1', 's3'))  \n",
    "print(get_node_depth(tree, 's1', 's4'))  "
   ]
  }
 ],
 "metadata": {
  "kernelspec": {
   "display_name": "Python 3",
   "language": "python",
   "name": "python3"
  },
  "language_info": {
   "codemirror_mode": {
    "name": "ipython",
    "version": 3
   },
   "file_extension": ".py",
   "mimetype": "text/x-python",
   "name": "python",
   "nbconvert_exporter": "python",
   "pygments_lexer": "ipython3",
   "version": "3.12.5"
  }
 },
 "nbformat": 4,
 "nbformat_minor": 2
}
